{
 "cells": [
  {
   "cell_type": "markdown",
   "id": "73be6b5b",
   "metadata": {},
   "source": [
    "## Análisis Exploratorio de 24 Horas de LeMans"
   ]
  },
  {
   "cell_type": "markdown",
   "id": "e3c42398",
   "metadata": {},
   "source": []
  },
  {
   "cell_type": "code",
   "execution_count": null,
   "id": "a31a22c2",
   "metadata": {},
   "outputs": [],
   "source": [
    "import pandas as pd\n",
    "import seaborn as sns \n",
    "import matplotlib.pyplot as plt \n",
    "\n",
    "le_mans= pd.read_csv(\"24LeMans.csv\", encoding='latin-1')"
   ]
  },
  {
   "cell_type": "code",
   "execution_count": 19,
   "id": "e58c9e12",
   "metadata": {},
   "outputs": [
    {
     "data": {
      "application/vnd.microsoft.datawrangler.viewer.v0+json": {
       "columns": [
        {
         "name": "index",
         "rawType": "int64",
         "type": "integer"
        },
        {
         "name": "S.No",
         "rawType": "int64",
         "type": "integer"
        },
        {
         "name": "Hour",
         "rawType": "int64",
         "type": "integer"
        },
        {
         "name": "Car No.",
         "rawType": "int64",
         "type": "integer"
        },
        {
         "name": "Team",
         "rawType": "object",
         "type": "string"
        },
        {
         "name": "Drivers",
         "rawType": "object",
         "type": "string"
        },
        {
         "name": "Car",
         "rawType": "object",
         "type": "string"
        },
        {
         "name": "Category",
         "rawType": "object",
         "type": "string"
        },
        {
         "name": "Tyres  ",
         "rawType": "object",
         "type": "string"
        },
        {
         "name": "Laps",
         "rawType": "int64",
         "type": "integer"
        },
        {
         "name": "Total Time",
         "rawType": "object",
         "type": "string"
        },
        {
         "name": "Pitstops",
         "rawType": "int64",
         "type": "integer"
        },
        {
         "name": "Best Lap Number",
         "rawType": "float64",
         "type": "float"
        },
        {
         "name": "Best LapTime",
         "rawType": "object",
         "type": "string"
        },
        {
         "name": "Best Lap Kph",
         "rawType": "float64",
         "type": "float"
        },
        {
         "name": "Status",
         "rawType": "object",
         "type": "string"
        }
       ],
       "ref": "8d94007b-a1f9-4f8d-8c2b-bd5c812bbc08",
       "rows": [
        [
         "0",
         "1",
         "1",
         "8",
         "Toyota Gazoo Racing",
         "S. BUEMI / B. HARTLEY / R. HIRAKAWA",
         "Toyota GR010 HYBRID",
         "HYPERCAR",
         "M",
         "12",
         "01:01:15",
         "0",
         "10.0",
         "03:29.7",
         "234.0",
         "Running "
        ],
        [
         "1",
         "2",
         "1",
         "51",
         "Ferrari AF Corse",
         "A. PIER GUIDI / J. CALADO / A. GIOVINAZZI",
         "Ferrari 499P",
         "HYPERCAR",
         "M",
         "12",
         "01:01:19",
         "0",
         "12.0",
         "03:29.1",
         "234.6",
         "Running "
        ],
        [
         "2",
         "3",
         "1",
         "7",
         "Toyota Gazoo Racing",
         "M. CONWAY / K. KOBAYASHI / J. LOPEZ",
         "Toyota GR010 HYBRID",
         "HYPERCAR",
         "M",
         "12",
         "01:01:21",
         "0",
         "12.0",
         "03:30.0",
         "233.6",
         "Running "
        ],
        [
         "3",
         "4",
         "1",
         "75",
         "Porsche Penske Motorsport",
         "F. NASR / M. JAMINET / N. TANDY",
         "Porsche 963",
         "HYPERCAR",
         "M",
         "12",
         "01:01:22",
         "0",
         "12.0",
         "03:29.9",
         "233.7",
         "Running "
        ],
        [
         "4",
         "5",
         "1",
         "6",
         "Porsche Penske Motorsport",
         "K. ESTRE / A. LOTTERER / L. VANTHOOR",
         "Porsche 963",
         "HYPERCAR",
         "M",
         "12",
         "01:01:23",
         "0",
         "9.0",
         "03:30.0",
         "233.6",
         "Running "
        ],
        [
         "5",
         "6",
         "1",
         "5",
         "Porsche Penske Motorsport",
         "D. CAMERON / M. CHRISTENSEN / F. MAKOWIECKI",
         "Porsche 963",
         "HYPERCAR",
         "M",
         "12",
         "01:01:23",
         "0",
         "9.0",
         "03:30.1",
         "233.5",
         "Running "
        ],
        [
         "6",
         "7",
         "1",
         "2",
         "Cadillac Racing",
         "E. BAMBER / A. LYNN / R. WESTBROOK",
         "Cadillac V-Series.R",
         "HYPERCAR",
         "M",
         "12",
         "01:01:24",
         "0",
         "10.0",
         "03:30.2",
         "233.4",
         "Running "
        ],
        [
         "7",
         "8",
         "1",
         "93",
         "Peugeot TotalEnergies",
         "P. DI RESTA / M. JENSEN / J. VERGNE",
         "Peugeot 9X8",
         "HYPERCAR",
         "M",
         "12",
         "01:01:25",
         "0",
         "10.0",
         "03:30.1",
         "233.5",
         "Running "
        ],
        [
         "8",
         "9",
         "1",
         "38",
         "Hertz Team JOTA",
         "A. DA COSTA / W. STEVENS / Y. YE",
         "Porsche 963",
         "HYPERCAR",
         "M",
         "12",
         "01:01:26",
         "1",
         "10.0",
         "03:29.5",
         "234.2",
         "Running "
        ],
        [
         "9",
         "10",
         "1",
         "94",
         "Peugeot TotalEnergies",
         "L. DUVAL / G. MENEZES / N. MÜLLER",
         "Peugeot 9X8",
         "HYPERCAR",
         "M",
         "12",
         "01:01:28",
         "0",
         "10.0",
         "03:29.7",
         "234.0",
         "Running "
        ]
       ],
       "shape": {
        "columns": 15,
        "rows": 10
       }
      },
      "text/html": [
       "<div>\n",
       "<style scoped>\n",
       "    .dataframe tbody tr th:only-of-type {\n",
       "        vertical-align: middle;\n",
       "    }\n",
       "\n",
       "    .dataframe tbody tr th {\n",
       "        vertical-align: top;\n",
       "    }\n",
       "\n",
       "    .dataframe thead th {\n",
       "        text-align: right;\n",
       "    }\n",
       "</style>\n",
       "<table border=\"1\" class=\"dataframe\">\n",
       "  <thead>\n",
       "    <tr style=\"text-align: right;\">\n",
       "      <th></th>\n",
       "      <th>S.No</th>\n",
       "      <th>Hour</th>\n",
       "      <th>Car No.</th>\n",
       "      <th>Team</th>\n",
       "      <th>Drivers</th>\n",
       "      <th>Car</th>\n",
       "      <th>Category</th>\n",
       "      <th>Tyres</th>\n",
       "      <th>Laps</th>\n",
       "      <th>Total Time</th>\n",
       "      <th>Pitstops</th>\n",
       "      <th>Best Lap Number</th>\n",
       "      <th>Best LapTime</th>\n",
       "      <th>Best Lap Kph</th>\n",
       "      <th>Status</th>\n",
       "    </tr>\n",
       "  </thead>\n",
       "  <tbody>\n",
       "    <tr>\n",
       "      <th>0</th>\n",
       "      <td>1</td>\n",
       "      <td>1</td>\n",
       "      <td>8</td>\n",
       "      <td>Toyota Gazoo Racing</td>\n",
       "      <td>S. BUEMI / B. HARTLEY / R. HIRAKAWA</td>\n",
       "      <td>Toyota GR010 HYBRID</td>\n",
       "      <td>HYPERCAR</td>\n",
       "      <td>M</td>\n",
       "      <td>12</td>\n",
       "      <td>01:01:15</td>\n",
       "      <td>0</td>\n",
       "      <td>10.0</td>\n",
       "      <td>03:29.7</td>\n",
       "      <td>234.0</td>\n",
       "      <td>Running</td>\n",
       "    </tr>\n",
       "    <tr>\n",
       "      <th>1</th>\n",
       "      <td>2</td>\n",
       "      <td>1</td>\n",
       "      <td>51</td>\n",
       "      <td>Ferrari AF Corse</td>\n",
       "      <td>A. PIER GUIDI / J. CALADO / A. GIOVINAZZI</td>\n",
       "      <td>Ferrari 499P</td>\n",
       "      <td>HYPERCAR</td>\n",
       "      <td>M</td>\n",
       "      <td>12</td>\n",
       "      <td>01:01:19</td>\n",
       "      <td>0</td>\n",
       "      <td>12.0</td>\n",
       "      <td>03:29.1</td>\n",
       "      <td>234.6</td>\n",
       "      <td>Running</td>\n",
       "    </tr>\n",
       "    <tr>\n",
       "      <th>2</th>\n",
       "      <td>3</td>\n",
       "      <td>1</td>\n",
       "      <td>7</td>\n",
       "      <td>Toyota Gazoo Racing</td>\n",
       "      <td>M. CONWAY / K. KOBAYASHI / J. LOPEZ</td>\n",
       "      <td>Toyota GR010 HYBRID</td>\n",
       "      <td>HYPERCAR</td>\n",
       "      <td>M</td>\n",
       "      <td>12</td>\n",
       "      <td>01:01:21</td>\n",
       "      <td>0</td>\n",
       "      <td>12.0</td>\n",
       "      <td>03:30.0</td>\n",
       "      <td>233.6</td>\n",
       "      <td>Running</td>\n",
       "    </tr>\n",
       "    <tr>\n",
       "      <th>3</th>\n",
       "      <td>4</td>\n",
       "      <td>1</td>\n",
       "      <td>75</td>\n",
       "      <td>Porsche Penske Motorsport</td>\n",
       "      <td>F. NASR / M. JAMINET / N. TANDY</td>\n",
       "      <td>Porsche 963</td>\n",
       "      <td>HYPERCAR</td>\n",
       "      <td>M</td>\n",
       "      <td>12</td>\n",
       "      <td>01:01:22</td>\n",
       "      <td>0</td>\n",
       "      <td>12.0</td>\n",
       "      <td>03:29.9</td>\n",
       "      <td>233.7</td>\n",
       "      <td>Running</td>\n",
       "    </tr>\n",
       "    <tr>\n",
       "      <th>4</th>\n",
       "      <td>5</td>\n",
       "      <td>1</td>\n",
       "      <td>6</td>\n",
       "      <td>Porsche Penske Motorsport</td>\n",
       "      <td>K. ESTRE / A. LOTTERER / L. VANTHOOR</td>\n",
       "      <td>Porsche 963</td>\n",
       "      <td>HYPERCAR</td>\n",
       "      <td>M</td>\n",
       "      <td>12</td>\n",
       "      <td>01:01:23</td>\n",
       "      <td>0</td>\n",
       "      <td>9.0</td>\n",
       "      <td>03:30.0</td>\n",
       "      <td>233.6</td>\n",
       "      <td>Running</td>\n",
       "    </tr>\n",
       "    <tr>\n",
       "      <th>5</th>\n",
       "      <td>6</td>\n",
       "      <td>1</td>\n",
       "      <td>5</td>\n",
       "      <td>Porsche Penske Motorsport</td>\n",
       "      <td>D. CAMERON / M. CHRISTENSEN / F. MAKOWIECKI</td>\n",
       "      <td>Porsche 963</td>\n",
       "      <td>HYPERCAR</td>\n",
       "      <td>M</td>\n",
       "      <td>12</td>\n",
       "      <td>01:01:23</td>\n",
       "      <td>0</td>\n",
       "      <td>9.0</td>\n",
       "      <td>03:30.1</td>\n",
       "      <td>233.5</td>\n",
       "      <td>Running</td>\n",
       "    </tr>\n",
       "    <tr>\n",
       "      <th>6</th>\n",
       "      <td>7</td>\n",
       "      <td>1</td>\n",
       "      <td>2</td>\n",
       "      <td>Cadillac Racing</td>\n",
       "      <td>E. BAMBER / A. LYNN / R. WESTBROOK</td>\n",
       "      <td>Cadillac V-Series.R</td>\n",
       "      <td>HYPERCAR</td>\n",
       "      <td>M</td>\n",
       "      <td>12</td>\n",
       "      <td>01:01:24</td>\n",
       "      <td>0</td>\n",
       "      <td>10.0</td>\n",
       "      <td>03:30.2</td>\n",
       "      <td>233.4</td>\n",
       "      <td>Running</td>\n",
       "    </tr>\n",
       "    <tr>\n",
       "      <th>7</th>\n",
       "      <td>8</td>\n",
       "      <td>1</td>\n",
       "      <td>93</td>\n",
       "      <td>Peugeot TotalEnergies</td>\n",
       "      <td>P. DI RESTA / M. JENSEN / J. VERGNE</td>\n",
       "      <td>Peugeot 9X8</td>\n",
       "      <td>HYPERCAR</td>\n",
       "      <td>M</td>\n",
       "      <td>12</td>\n",
       "      <td>01:01:25</td>\n",
       "      <td>0</td>\n",
       "      <td>10.0</td>\n",
       "      <td>03:30.1</td>\n",
       "      <td>233.5</td>\n",
       "      <td>Running</td>\n",
       "    </tr>\n",
       "    <tr>\n",
       "      <th>8</th>\n",
       "      <td>9</td>\n",
       "      <td>1</td>\n",
       "      <td>38</td>\n",
       "      <td>Hertz Team JOTA</td>\n",
       "      <td>A. DA COSTA / W. STEVENS / Y. YE</td>\n",
       "      <td>Porsche 963</td>\n",
       "      <td>HYPERCAR</td>\n",
       "      <td>M</td>\n",
       "      <td>12</td>\n",
       "      <td>01:01:26</td>\n",
       "      <td>1</td>\n",
       "      <td>10.0</td>\n",
       "      <td>03:29.5</td>\n",
       "      <td>234.2</td>\n",
       "      <td>Running</td>\n",
       "    </tr>\n",
       "    <tr>\n",
       "      <th>9</th>\n",
       "      <td>10</td>\n",
       "      <td>1</td>\n",
       "      <td>94</td>\n",
       "      <td>Peugeot TotalEnergies</td>\n",
       "      <td>L. DUVAL / G. MENEZES / N. MÜLLER</td>\n",
       "      <td>Peugeot 9X8</td>\n",
       "      <td>HYPERCAR</td>\n",
       "      <td>M</td>\n",
       "      <td>12</td>\n",
       "      <td>01:01:28</td>\n",
       "      <td>0</td>\n",
       "      <td>10.0</td>\n",
       "      <td>03:29.7</td>\n",
       "      <td>234.0</td>\n",
       "      <td>Running</td>\n",
       "    </tr>\n",
       "  </tbody>\n",
       "</table>\n",
       "</div>"
      ],
      "text/plain": [
       "   S.No  Hour  Car No.                       Team  \\\n",
       "0     1     1        8        Toyota Gazoo Racing   \n",
       "1     2     1       51           Ferrari AF Corse   \n",
       "2     3     1        7        Toyota Gazoo Racing   \n",
       "3     4     1       75  Porsche Penske Motorsport   \n",
       "4     5     1        6  Porsche Penske Motorsport   \n",
       "5     6     1        5  Porsche Penske Motorsport   \n",
       "6     7     1        2            Cadillac Racing   \n",
       "7     8     1       93      Peugeot TotalEnergies   \n",
       "8     9     1       38            Hertz Team JOTA   \n",
       "9    10     1       94      Peugeot TotalEnergies   \n",
       "\n",
       "                                       Drivers                  Car  Category  \\\n",
       "0          S. BUEMI / B. HARTLEY / R. HIRAKAWA  Toyota GR010 HYBRID  HYPERCAR   \n",
       "1    A. PIER GUIDI / J. CALADO / A. GIOVINAZZI         Ferrari 499P  HYPERCAR   \n",
       "2          M. CONWAY / K. KOBAYASHI / J. LOPEZ  Toyota GR010 HYBRID  HYPERCAR   \n",
       "3              F. NASR / M. JAMINET / N. TANDY          Porsche 963  HYPERCAR   \n",
       "4         K. ESTRE / A. LOTTERER / L. VANTHOOR          Porsche 963  HYPERCAR   \n",
       "5  D. CAMERON / M. CHRISTENSEN / F. MAKOWIECKI          Porsche 963  HYPERCAR   \n",
       "6           E. BAMBER / A. LYNN / R. WESTBROOK  Cadillac V-Series.R  HYPERCAR   \n",
       "7          P. DI RESTA / M. JENSEN / J. VERGNE          Peugeot 9X8  HYPERCAR   \n",
       "8             A. DA COSTA / W. STEVENS / Y. YE          Porsche 963  HYPERCAR   \n",
       "9            L. DUVAL / G. MENEZES / N. MÜLLER          Peugeot 9X8  HYPERCAR   \n",
       "\n",
       "  Tyres    Laps Total Time  Pitstops  Best Lap Number Best LapTime  \\\n",
       "0       M    12   01:01:15         0             10.0      03:29.7   \n",
       "1       M    12   01:01:19         0             12.0      03:29.1   \n",
       "2       M    12   01:01:21         0             12.0      03:30.0   \n",
       "3       M    12   01:01:22         0             12.0      03:29.9   \n",
       "4       M    12   01:01:23         0              9.0      03:30.0   \n",
       "5       M    12   01:01:23         0              9.0      03:30.1   \n",
       "6       M    12   01:01:24         0             10.0      03:30.2   \n",
       "7       M    12   01:01:25         0             10.0      03:30.1   \n",
       "8       M    12   01:01:26         1             10.0      03:29.5   \n",
       "9       M    12   01:01:28         0             10.0      03:29.7   \n",
       "\n",
       "   Best Lap Kph    Status  \n",
       "0         234.0  Running   \n",
       "1         234.6  Running   \n",
       "2         233.6  Running   \n",
       "3         233.7  Running   \n",
       "4         233.6  Running   \n",
       "5         233.5  Running   \n",
       "6         233.4  Running   \n",
       "7         233.5  Running   \n",
       "8         234.2  Running   \n",
       "9         234.0  Running   "
      ]
     },
     "execution_count": 19,
     "metadata": {},
     "output_type": "execute_result"
    }
   ],
   "source": [
    "le_mans.head(10)"
   ]
  },
  {
   "cell_type": "markdown",
   "id": "b8aec726",
   "metadata": {},
   "source": [
    "* Información acerca del Conjunto de datos"
   ]
  },
  {
   "cell_type": "code",
   "execution_count": 20,
   "id": "3d11c83c",
   "metadata": {},
   "outputs": [
    {
     "name": "stdout",
     "output_type": "stream",
     "text": [
      "<class 'pandas.core.frame.DataFrame'>\n",
      "RangeIndex: 1486 entries, 0 to 1485\n",
      "Data columns (total 15 columns):\n",
      " #   Column           Non-Null Count  Dtype  \n",
      "---  ------           --------------  -----  \n",
      " 0   S.No             1486 non-null   int64  \n",
      " 1   Hour             1486 non-null   int64  \n",
      " 2   Car No.          1486 non-null   int64  \n",
      " 3   Team             1486 non-null   object \n",
      " 4   Drivers          1486 non-null   object \n",
      " 5   Car              1485 non-null   object \n",
      " 6   Category         1486 non-null   object \n",
      " 7   Tyres            1485 non-null   object \n",
      " 8   Laps             1486 non-null   int64  \n",
      " 9   Total Time       1486 non-null   object \n",
      " 10  Pitstops         1486 non-null   int64  \n",
      " 11  Best Lap Number  1485 non-null   float64\n",
      " 12  Best LapTime     1485 non-null   object \n",
      " 13  Best Lap Kph     1485 non-null   float64\n",
      " 14  Status           1486 non-null   object \n",
      "dtypes: float64(2), int64(5), object(8)\n",
      "memory usage: 174.3+ KB\n"
     ]
    }
   ],
   "source": [
    "le_mans.info()"
   ]
  },
  {
   "cell_type": "markdown",
   "id": "2eccd2c2",
   "metadata": {},
   "source": [
    "* Verificación sobre valores nulos en el conjunto de datos"
   ]
  },
  {
   "cell_type": "code",
   "execution_count": 21,
   "id": "f1455707",
   "metadata": {},
   "outputs": [
    {
     "data": {
      "application/vnd.microsoft.datawrangler.viewer.v0+json": {
       "columns": [
        {
         "name": "index",
         "rawType": "object",
         "type": "string"
        },
        {
         "name": "0",
         "rawType": "int64",
         "type": "integer"
        }
       ],
       "ref": "75cfb9ac-4668-4a3f-a952-ef2d893d7e62",
       "rows": [
        [
         "S.No",
         "0"
        ],
        [
         "Hour",
         "0"
        ],
        [
         "Car No.",
         "0"
        ],
        [
         "Team",
         "0"
        ],
        [
         "Drivers",
         "0"
        ],
        [
         "Car",
         "1"
        ],
        [
         "Category",
         "0"
        ],
        [
         "Tyres  ",
         "1"
        ],
        [
         "Laps",
         "0"
        ],
        [
         "Total Time",
         "0"
        ],
        [
         "Pitstops",
         "0"
        ],
        [
         "Best Lap Number",
         "1"
        ],
        [
         "Best LapTime",
         "1"
        ],
        [
         "Best Lap Kph",
         "1"
        ],
        [
         "Status",
         "0"
        ]
       ],
       "shape": {
        "columns": 1,
        "rows": 15
       }
      },
      "text/plain": [
       "S.No               0\n",
       "Hour               0\n",
       "Car No.            0\n",
       "Team               0\n",
       "Drivers            0\n",
       "Car                1\n",
       "Category           0\n",
       "Tyres              1\n",
       "Laps               0\n",
       "Total Time         0\n",
       "Pitstops           0\n",
       "Best Lap Number    1\n",
       "Best LapTime       1\n",
       "Best Lap Kph       1\n",
       "Status             0\n",
       "dtype: int64"
      ]
     },
     "execution_count": 21,
     "metadata": {},
     "output_type": "execute_result"
    }
   ],
   "source": [
    "le_mans.isnull().sum()"
   ]
  },
  {
   "cell_type": "markdown",
   "id": "19228f4b",
   "metadata": {},
   "source": [
    "* Verificación si hay valores duplicados"
   ]
  },
  {
   "cell_type": "code",
   "execution_count": 22,
   "id": "f804287c",
   "metadata": {},
   "outputs": [
    {
     "data": {
      "application/vnd.microsoft.datawrangler.viewer.v0+json": {
       "columns": [
        {
         "name": "index",
         "rawType": "bool",
         "type": "boolean"
        },
        {
         "name": "count",
         "rawType": "int64",
         "type": "integer"
        }
       ],
       "ref": "9e5b20d1-3422-4e98-8312-4baad56a8a5b",
       "rows": [
        [
         "False",
         "1486"
        ]
       ],
       "shape": {
        "columns": 1,
        "rows": 1
       }
      },
      "text/plain": [
       "False    1486\n",
       "Name: count, dtype: int64"
      ]
     },
     "execution_count": 22,
     "metadata": {},
     "output_type": "execute_result"
    }
   ],
   "source": [
    "le_mans.duplicated().value_counts()"
   ]
  },
  {
   "cell_type": "code",
   "execution_count": 23,
   "id": "9e16d01e",
   "metadata": {},
   "outputs": [
    {
     "data": {
      "text/plain": [
       "(1483, 15)"
      ]
     },
     "execution_count": 23,
     "metadata": {},
     "output_type": "execute_result"
    }
   ],
   "source": [
    "le_mans.dropna(inplace = True)\n",
    "le_mans.shape"
   ]
  },
  {
   "cell_type": "markdown",
   "id": "6ad4a023",
   "metadata": {},
   "source": [
    "#### EDA "
   ]
  },
  {
   "cell_type": "markdown",
   "id": "02ea91cd",
   "metadata": {},
   "source": [
    "* Se eliminan número de serie 'S.No', 'Status' "
   ]
  },
  {
   "cell_type": "code",
   "execution_count": 25,
   "id": "54d39be3",
   "metadata": {},
   "outputs": [],
   "source": [
    "le_mans.drop(['S.No','Status'],inplace=True,axis=1)"
   ]
  },
  {
   "cell_type": "markdown",
   "id": "35540801",
   "metadata": {},
   "source": [
    "* Distirbución mediante Boxplots "
   ]
  },
  {
   "cell_type": "code",
   "execution_count": 26,
   "id": "8265166a",
   "metadata": {},
   "outputs": [
    {
     "data": {
      "image/png": "[encoded data removed]",
      "text/plain": [
       "<Figure size 1200x700 with 1 Axes>"
      ]
     },
     "metadata": {},
     "output_type": "display_data"
    }
   ],
   "source": [
    "plt.figure(figsize=(12,7))\n",
    "plt.title('24 Hrs Le Man Data Distribution')\n",
    "sns.boxplot(le_mans.drop('Total Time',axis=1),orient='h')\n",
    "plt.show()"
   ]
  },
  {
   "cell_type": "markdown",
   "id": "f658ec0f",
   "metadata": {},
   "source": [
    "* Vuelta más rápida y Vuelta más Lenta "
   ]
  },
  {
   "cell_type": "code",
   "execution_count": 27,
   "id": "53f33df8",
   "metadata": {},
   "outputs": [
    {
     "name": "stdout",
     "output_type": "stream",
     "text": [
      "Fastest Lap Cover Time : 03:27.0\n",
      "----------------------------------------\n",
      "Slowest Lap Cover Time : 04:00.3\n"
     ]
    }
   ],
   "source": [
    "print('Fastest Lap Cover Time :',min(le_mans['Best LapTime']))\n",
    "print('----------------------------------------')\n",
    "print('Slowest Lap Cover Time :',max(le_mans['Best LapTime']))"
   ]
  },
  {
   "cell_type": "markdown",
   "id": "31b9e1c9",
   "metadata": {},
   "source": [
    "* Número de equipos que participaron en LeMans"
   ]
  },
  {
   "cell_type": "code",
   "execution_count": 28,
   "id": "be5c7703",
   "metadata": {},
   "outputs": [
    {
     "data": {
      "text/plain": [
       "45"
      ]
     },
     "execution_count": 28,
     "metadata": {},
     "output_type": "execute_result"
    }
   ],
   "source": [
    "\n",
    "le_mans['Team'].nunique()"
   ]
  },
  {
   "cell_type": "markdown",
   "id": "a1ff0e76",
   "metadata": {},
   "source": [
    "* Parada de Pits por cada competidor"
   ]
  },
  {
   "cell_type": "code",
   "execution_count": 30,
   "id": "1d68eb32",
   "metadata": {},
   "outputs": [
    {
     "name": "stderr",
     "output_type": "stream",
     "text": [
      "C:\\Users\\Alejandro\\AppData\\Local\\Temp\\ipykernel_2820\\3341579049.py:3: UserWarning: No artists with labels found to put in legend.  Note that artists whose label start with an underscore are ignored when legend() is called with no argument.\n",
      "  plt.legend()\n"
     ]
    },
    {
     "data": {
      "image/png": "[encoded data removed]",
      "text/plain": [
       "<Figure size 1200x700 with 1 Axes>"
      ]
     },
     "metadata": {},
     "output_type": "display_data"
    }
   ],
   "source": [
    "plt.figure(figsize=(12,7))\n",
    "sns.barplot(data=le_mans,x='Car',y='Pitstops',errorbar=None)\n",
    "plt.legend()\n",
    "plt.xticks(rotation='vertical',size=12)\n",
    "plt.show()"
   ]
  },
  {
   "cell_type": "markdown",
   "id": "90994129",
   "metadata": {},
   "source": [
    "* Equipos que participaron"
   ]
  },
  {
   "cell_type": "code",
   "execution_count": 31,
   "id": "76867280",
   "metadata": {},
   "outputs": [
    {
     "data": {
      "application/vnd.microsoft.datawrangler.viewer.v0+json": {
       "columns": [
        {
         "name": "index",
         "rawType": "int64",
         "type": "integer"
        },
        {
         "name": "Team",
         "rawType": "object",
         "type": "string"
        },
        {
         "name": "Drivers",
         "rawType": "object",
         "type": "string"
        }
       ],
       "ref": "a54cd801-3bea-4397-992a-a5c1db9ef6c0",
       "rows": [
        [
         "0",
         "Toyota Gazoo Racing",
         "S. BUEMI / B. HARTLEY / R. HIRAKAWA"
        ],
        [
         "1",
         "Ferrari AF Corse",
         "A. PIER GUIDI / J. CALADO / A. GIOVINAZZI"
        ],
        [
         "2",
         "Toyota Gazoo Racing",
         "M. CONWAY / K. KOBAYASHI / J. LOPEZ"
        ],
        [
         "3",
         "Porsche Penske Motorsport",
         "F. NASR / M. JAMINET / N. TANDY"
        ],
        [
         "4",
         "Porsche Penske Motorsport",
         "K. ESTRE / A. LOTTERER / L. VANTHOOR"
        ],
        [
         "5",
         "Porsche Penske Motorsport",
         "D. CAMERON / M. CHRISTENSEN / F. MAKOWIECKI"
        ],
        [
         "6",
         "Cadillac Racing",
         "E. BAMBER / A. LYNN / R. WESTBROOK"
        ],
        [
         "7",
         "Peugeot TotalEnergies",
         "P. DI RESTA / M. JENSEN / J. VERGNE"
        ],
        [
         "8",
         "Hertz Team JOTA",
         "A. DA COSTA / W. STEVENS / Y. YE"
        ],
        [
         "9",
         "Peugeot TotalEnergies",
         "L. DUVAL / G. MENEZES / N. MÜLLER"
        ],
        [
         "10",
         "Glickenhaus Racing",
         "F. MAILLEUX / N. BERTHON / E. GUTIERREZ"
        ],
        [
         "11",
         "Floyd Vanwall Racing Team",
         "T. DILLMANN / E. GUERRIERI / T. VAUTIER"
        ],
        [
         "12",
         "IDEC Sport",
         "P. LAFARGUE / P. CHATIN / L. HÖRR"
        ],
        [
         "13",
         "Ferrari AF Corse",
         "A. FUOCO / M. MOLINA / N. NIELSEN"
        ],
        [
         "14",
         "Team WRT",
         "R. ANDRADE / L. DELÉTRAZ / R. KUBICA"
        ],
        [
         "15",
         "JOTA",
         "D. HEINEMEIER-HANSSON / O. RASMUSSEN / P. FITTIPALDI"
        ],
        [
         "16",
         "Alpine Elf Team",
         "M. VAXIVIERE / C. MILESI / J. CANAL"
        ],
        [
         "17",
         "Vector Sport",
         "R. CULLEN / G. AUBRY / M. KAISER"
        ],
        [
         "18",
         "United Autosports",
         "P. HANSON / F. ALBUQUERQUE / F. LUBIN"
        ],
        [
         "19",
         "Prema Racing",
         "B. VISCAAL / J. CORREA / F. UGRAN"
        ],
        [
         "20",
         "Cadillac Racing",
         "S. BOURDAIS / R. VAN DER ZANDE / S. DIXON"
        ],
        [
         "21",
         "Algarve Pro Racing",
         "G. KURTZ / J. ALLEN / C. BRAUN"
        ],
        [
         "22",
         "Alpine Elf Team",
         "A. NEGRÃO / O. CALDWELL / M. ROJAS"
        ],
        [
         "23",
         "Graff Racing",
         "R. LACORTE / G. VAN DER GARDE / P. PILET"
        ],
        [
         "24",
         "Duqueine Team",
         "N. JANI / R. BINDER / N. PINO"
        ],
        [
         "25",
         "DKR Engineering",
         "T. VAN ROMPUY / U. DE WILDE / M. MARTIN"
        ],
        [
         "26",
         "Team WRT",
         "S. GELAEL / F. HABSBURG / R. FRIJNS"
        ],
        [
         "27",
         "Inter Europol Competition",
         "J. SMIECHOWSKI / A. COSTA / F. SCHERER"
        ],
        [
         "28",
         "AF Corse",
         "F. PERRODO / B. BARNICOAT / N. NATO"
        ],
        [
         "29",
         "Nielsen Racing",
         "R. SALES / M. BECHE / B. HANLEY"
        ],
        [
         "30",
         "COOL Racing",
         "N. LAPIERRE / A. COIGNY / M. JAKOBSEN"
        ],
        [
         "31",
         "COOL Racing",
         "DE GÉRUS / V. LOMKO / S. PAGENAUD"
        ],
        [
         "32",
         "United Autosports",
         "J. PIERSON / T. BLOMQVIST / O. JARVIS"
        ],
        [
         "33",
         "Panis Racing",
         "M. MALDONADO / T. VAN DER HELM / J. VAN UITERT"
        ],
        [
         "34",
         "Hendrick Motorsports",
         "J. JOHNSON / M. ROCKENFELLER / J. BUTTON"
        ],
        [
         "35",
         "Project 1 - AO",
         "P. HYETT / G. JEANNETTE / M. CAIROLI"
        ],
        [
         "36",
         "Iron Lynx",
         "C. SCHIAVONI / M. CRESSONI / A. PICARIELLO"
        ],
        [
         "37",
         "AF Corse",
         "T. FLOHR / F. CASTELLACCI / D. RIGON"
        ],
        [
         "38",
         "Racing Team Turkey",
         "S. YOLUC / T. GAMBLE / D. VANTHOOR"
        ],
        [
         "39",
         "Kessel Racing",
         "T. KIMURA / S. HUFFAKER / D. SERRA"
        ],
        [
         "40",
         "Richard Mille AF Corse",
         "L. PEREZ COMPANC / A. ROVERA / L. WADOUX"
        ],
        [
         "41",
         "Proton Competition",
         "H. TINCKNELL / D. YOUNT / J. RIED"
        ],
        [
         "42",
         "Corvette Racing",
         "N. CATSBURG / B. KEATING / N. VARRONE"
        ],
        [
         "43",
         "Proton Competition",
         "M. FASSBENDER / M. RUMP / R. LIETZ"
        ],
        [
         "44",
         "GR Racing",
         "M. WAINWRIGHT / B. BARKER / R. PERA"
        ],
        [
         "45",
         "AF Corse",
         "S. MANN / J. PIGUET / U. DE PAUW"
        ],
        [
         "46",
         "Walkenhorst Motorsport",
         "C. HULL / A. HARYANTO / J. SEGAL"
        ],
        [
         "47",
         "Kessel Racing",
         "K. COZZOLINO / Y. TSUJIKO / N. YOKOMIZO"
        ],
        [
         "48",
         "Iron Dames",
         "S. BOVY / M. GATTING / R. FREY"
        ],
        [
         "49",
         "ORT by TF",
         "A. AL HARTHY / M. DINAN / C. EASTWOOD"
        ]
       ],
       "shape": {
        "columns": 2,
        "rows": 1483
       }
      },
      "text/html": [
       "<div>\n",
       "<style scoped>\n",
       "    .dataframe tbody tr th:only-of-type {\n",
       "        vertical-align: middle;\n",
       "    }\n",
       "\n",
       "    .dataframe tbody tr th {\n",
       "        vertical-align: top;\n",
       "    }\n",
       "\n",
       "    .dataframe thead th {\n",
       "        text-align: right;\n",
       "    }\n",
       "</style>\n",
       "<table border=\"1\" class=\"dataframe\">\n",
       "  <thead>\n",
       "    <tr style=\"text-align: right;\">\n",
       "      <th></th>\n",
       "      <th>Team</th>\n",
       "      <th>Drivers</th>\n",
       "    </tr>\n",
       "  </thead>\n",
       "  <tbody>\n",
       "    <tr>\n",
       "      <th>0</th>\n",
       "      <td>Toyota Gazoo Racing</td>\n",
       "      <td>S. BUEMI / B. HARTLEY / R. HIRAKAWA</td>\n",
       "    </tr>\n",
       "    <tr>\n",
       "      <th>1</th>\n",
       "      <td>Ferrari AF Corse</td>\n",
       "      <td>A. PIER GUIDI / J. CALADO / A. GIOVINAZZI</td>\n",
       "    </tr>\n",
       "    <tr>\n",
       "      <th>2</th>\n",
       "      <td>Toyota Gazoo Racing</td>\n",
       "      <td>M. CONWAY / K. KOBAYASHI / J. LOPEZ</td>\n",
       "    </tr>\n",
       "    <tr>\n",
       "      <th>3</th>\n",
       "      <td>Porsche Penske Motorsport</td>\n",
       "      <td>F. NASR / M. JAMINET / N. TANDY</td>\n",
       "    </tr>\n",
       "    <tr>\n",
       "      <th>4</th>\n",
       "      <td>Porsche Penske Motorsport</td>\n",
       "      <td>K. ESTRE / A. LOTTERER / L. VANTHOOR</td>\n",
       "    </tr>\n",
       "    <tr>\n",
       "      <th>...</th>\n",
       "      <td>...</td>\n",
       "      <td>...</td>\n",
       "    </tr>\n",
       "    <tr>\n",
       "      <th>1481</th>\n",
       "      <td>Iron Lynx</td>\n",
       "      <td>C. SCHIAVONI / M. CRESSONI / A. PICARIELLO</td>\n",
       "    </tr>\n",
       "    <tr>\n",
       "      <th>1482</th>\n",
       "      <td>Proton Competition</td>\n",
       "      <td>R. HARDWICK / Z. ROBICHON / J. HEYLEN</td>\n",
       "    </tr>\n",
       "    <tr>\n",
       "      <th>1483</th>\n",
       "      <td>GMB Motorsport</td>\n",
       "      <td>G. BIRCH / M. SØRENSEN/ J. MØLLER</td>\n",
       "    </tr>\n",
       "    <tr>\n",
       "      <th>1484</th>\n",
       "      <td>AF Corse</td>\n",
       "      <td>S. MANN / J. PIGUET / U. DE PAUW</td>\n",
       "    </tr>\n",
       "    <tr>\n",
       "      <th>1485</th>\n",
       "      <td>Tower Motorsports</td>\n",
       "      <td>S. THOMAS / R. TAYLOR / R. RAST</td>\n",
       "    </tr>\n",
       "  </tbody>\n",
       "</table>\n",
       "<p>1483 rows × 2 columns</p>\n",
       "</div>"
      ],
      "text/plain": [
       "                           Team                                     Drivers\n",
       "0           Toyota Gazoo Racing         S. BUEMI / B. HARTLEY / R. HIRAKAWA\n",
       "1              Ferrari AF Corse   A. PIER GUIDI / J. CALADO / A. GIOVINAZZI\n",
       "2           Toyota Gazoo Racing         M. CONWAY / K. KOBAYASHI / J. LOPEZ\n",
       "3     Porsche Penske Motorsport             F. NASR / M. JAMINET / N. TANDY\n",
       "4     Porsche Penske Motorsport        K. ESTRE / A. LOTTERER / L. VANTHOOR\n",
       "...                         ...                                         ...\n",
       "1481                  Iron Lynx  C. SCHIAVONI / M. CRESSONI / A. PICARIELLO\n",
       "1482         Proton Competition       R. HARDWICK / Z. ROBICHON / J. HEYLEN\n",
       "1483             GMB Motorsport           G. BIRCH / M. SØRENSEN/ J. MØLLER\n",
       "1484                   AF Corse            S. MANN / J. PIGUET / U. DE PAUW\n",
       "1485          Tower Motorsports             S. THOMAS / R. TAYLOR / R. RAST\n",
       "\n",
       "[1483 rows x 2 columns]"
      ]
     },
     "execution_count": 31,
     "metadata": {},
     "output_type": "execute_result"
    }
   ],
   "source": [
    "le_mans[['Team','Drivers']]"
   ]
  },
  {
   "cell_type": "markdown",
   "id": "f679657a",
   "metadata": {},
   "source": [
    "* Vehículo utilizado por equipo"
   ]
  },
  {
   "cell_type": "code",
   "execution_count": 33,
   "id": "c38287fc",
   "metadata": {},
   "outputs": [
    {
     "data": {
      "application/vnd.microsoft.datawrangler.viewer.v0+json": {
       "columns": [
        {
         "name": "index",
         "rawType": "int64",
         "type": "integer"
        },
        {
         "name": "Team",
         "rawType": "object",
         "type": "string"
        },
        {
         "name": "Car",
         "rawType": "object",
         "type": "string"
        },
        {
         "name": "Car No.",
         "rawType": "int64",
         "type": "integer"
        },
        {
         "name": "Category",
         "rawType": "object",
         "type": "string"
        }
       ],
       "ref": "1cbd6839-22c7-4b08-b26f-b44aa93d6453",
       "rows": [
        [
         "0",
         "Toyota Gazoo Racing",
         "Toyota GR010 HYBRID",
         "8",
         "HYPERCAR"
        ],
        [
         "1",
         "Ferrari AF Corse",
         "Ferrari 499P",
         "51",
         "HYPERCAR"
        ],
        [
         "2",
         "Toyota Gazoo Racing",
         "Toyota GR010 HYBRID",
         "7",
         "HYPERCAR"
        ],
        [
         "3",
         "Porsche Penske Motorsport",
         "Porsche 963",
         "75",
         "HYPERCAR"
        ],
        [
         "4",
         "Porsche Penske Motorsport",
         "Porsche 963",
         "6",
         "HYPERCAR"
        ],
        [
         "5",
         "Porsche Penske Motorsport",
         "Porsche 963",
         "5",
         "HYPERCAR"
        ],
        [
         "6",
         "Cadillac Racing",
         "Cadillac V-Series.R",
         "2",
         "HYPERCAR"
        ],
        [
         "7",
         "Peugeot TotalEnergies",
         "Peugeot 9X8",
         "93",
         "HYPERCAR"
        ],
        [
         "8",
         "Hertz Team JOTA",
         "Porsche 963",
         "38",
         "HYPERCAR"
        ],
        [
         "9",
         "Peugeot TotalEnergies",
         "Peugeot 9X8",
         "94",
         "HYPERCAR"
        ],
        [
         "10",
         "Glickenhaus Racing",
         "Glickenhaus 007",
         "709",
         "HYPERCAR"
        ],
        [
         "11",
         "Floyd Vanwall Racing Team",
         "Vanwall Vandervell 680",
         "4",
         "HYPERCAR"
        ],
        [
         "12",
         "IDEC Sport",
         "Oreca 07 - Gibson",
         "48",
         "LMP2"
        ],
        [
         "13",
         "Ferrari AF Corse",
         "Ferrari 499P",
         "50",
         "HYPERCAR"
        ],
        [
         "14",
         "Team WRT",
         "Oreca 07 - Gibson",
         "41",
         "LMP2"
        ],
        [
         "15",
         "JOTA",
         "Oreca 07 - Gibson",
         "28",
         "LMP2"
        ],
        [
         "16",
         "Alpine Elf Team",
         "Oreca 07 - Gibson",
         "36",
         "LMP2"
        ],
        [
         "17",
         "Vector Sport",
         "Oreca 07 - Gibson",
         "10",
         "LMP2"
        ],
        [
         "18",
         "United Autosports",
         "Oreca 07 - Gibson",
         "22",
         "LMP2"
        ],
        [
         "19",
         "Prema Racing",
         "Oreca 07 - Gibson",
         "9",
         "LMP2"
        ],
        [
         "20",
         "Cadillac Racing",
         "Cadillac V-Series.R",
         "3",
         "HYPERCAR"
        ],
        [
         "21",
         "Algarve Pro Racing",
         "Oreca 07 - Gibson",
         "45",
         "LMP2"
        ],
        [
         "22",
         "Alpine Elf Team",
         "Oreca 07 - Gibson",
         "35",
         "LMP2"
        ],
        [
         "23",
         "Graff Racing",
         "Oreca 07 - Gibson",
         "39",
         "LMP2"
        ],
        [
         "24",
         "Duqueine Team",
         "Oreca 07 - Gibson",
         "30",
         "LMP2"
        ],
        [
         "25",
         "DKR Engineering",
         "Oreca 07 - Gibson",
         "43",
         "LMP2"
        ],
        [
         "26",
         "Team WRT",
         "Oreca 07 - Gibson",
         "31",
         "LMP2"
        ],
        [
         "27",
         "Inter Europol Competition",
         "Oreca 07 - Gibson",
         "34",
         "LMP2"
        ],
        [
         "28",
         "AF Corse",
         "Oreca 07 - Gibson",
         "80",
         "LMP2"
        ],
        [
         "29",
         "Nielsen Racing",
         "Oreca 07 - Gibson",
         "14",
         "LMP2"
        ],
        [
         "30",
         "COOL Racing",
         "Oreca 07 - Gibson",
         "37",
         "LMP2"
        ],
        [
         "31",
         "COOL Racing",
         "Oreca 07 - Gibson",
         "47",
         "LMP2"
        ],
        [
         "32",
         "United Autosports",
         "Oreca 07 - Gibson",
         "23",
         "LMP2"
        ],
        [
         "33",
         "Panis Racing",
         "Oreca 07 - Gibson",
         "65",
         "LMP2"
        ],
        [
         "34",
         "Hendrick Motorsports",
         "Chevrolet Camaro ZL1",
         "24",
         "INNOVATIVE CAR"
        ],
        [
         "35",
         "Project 1 - AO",
         "Porsche 911 RSR - 19",
         "56",
         "LMGTE Am"
        ],
        [
         "36",
         "Iron Lynx",
         "Porsche 911 RSR - 19",
         "60",
         "LMGTE Am"
        ],
        [
         "37",
         "AF Corse",
         "Ferrari 488 GTE Evo",
         "54",
         "LMGTE Am"
        ],
        [
         "38",
         "Racing Team Turkey",
         "Oreca 07 - Gibson",
         "923",
         "LMP2"
        ],
        [
         "39",
         "Kessel Racing",
         "Ferrari 488 GTE Evo",
         "57",
         "LMGTE Am"
        ],
        [
         "40",
         "Richard Mille AF Corse",
         "Ferrari 488 GTE Evo",
         "83",
         "LMGTE Am"
        ],
        [
         "41",
         "Proton Competition",
         "Porsche 911 RSR - 19",
         "88",
         "LMGTE Am"
        ],
        [
         "42",
         "Corvette Racing",
         "Chevrolet Corvette C8.R",
         "33",
         "LMGTE Am"
        ],
        [
         "43",
         "Proton Competition",
         "Porsche 911 RSR - 19",
         "911",
         "LMGTE Am"
        ],
        [
         "44",
         "GR Racing",
         "Porsche 911 RSR - 19",
         "86",
         "LMGTE Am"
        ],
        [
         "45",
         "AF Corse",
         "Ferrari 488 GTE Evo",
         "21",
         "LMGTE Am"
        ],
        [
         "46",
         "Walkenhorst Motorsport",
         "Ferrari 488 GTE Evo",
         "100",
         "LMGTE Am"
        ],
        [
         "47",
         "Kessel Racing",
         "Ferrari 488 GTE Evo",
         "74",
         "LMGTE Am"
        ],
        [
         "48",
         "Iron Dames",
         "Porsche 911 RSR - 19",
         "85",
         "LMGTE Am"
        ],
        [
         "49",
         "ORT by TF",
         "Aston Martin Vantage AMR",
         "25",
         "LMGTE Am"
        ]
       ],
       "shape": {
        "columns": 4,
        "rows": 1483
       }
      },
      "text/html": [
       "<div>\n",
       "<style scoped>\n",
       "    .dataframe tbody tr th:only-of-type {\n",
       "        vertical-align: middle;\n",
       "    }\n",
       "\n",
       "    .dataframe tbody tr th {\n",
       "        vertical-align: top;\n",
       "    }\n",
       "\n",
       "    .dataframe thead th {\n",
       "        text-align: right;\n",
       "    }\n",
       "</style>\n",
       "<table border=\"1\" class=\"dataframe\">\n",
       "  <thead>\n",
       "    <tr style=\"text-align: right;\">\n",
       "      <th></th>\n",
       "      <th>Team</th>\n",
       "      <th>Car</th>\n",
       "      <th>Car No.</th>\n",
       "      <th>Category</th>\n",
       "    </tr>\n",
       "  </thead>\n",
       "  <tbody>\n",
       "    <tr>\n",
       "      <th>0</th>\n",
       "      <td>Toyota Gazoo Racing</td>\n",
       "      <td>Toyota GR010 HYBRID</td>\n",
       "      <td>8</td>\n",
       "      <td>HYPERCAR</td>\n",
       "    </tr>\n",
       "    <tr>\n",
       "      <th>1</th>\n",
       "      <td>Ferrari AF Corse</td>\n",
       "      <td>Ferrari 499P</td>\n",
       "      <td>51</td>\n",
       "      <td>HYPERCAR</td>\n",
       "    </tr>\n",
       "    <tr>\n",
       "      <th>2</th>\n",
       "      <td>Toyota Gazoo Racing</td>\n",
       "      <td>Toyota GR010 HYBRID</td>\n",
       "      <td>7</td>\n",
       "      <td>HYPERCAR</td>\n",
       "    </tr>\n",
       "    <tr>\n",
       "      <th>3</th>\n",
       "      <td>Porsche Penske Motorsport</td>\n",
       "      <td>Porsche 963</td>\n",
       "      <td>75</td>\n",
       "      <td>HYPERCAR</td>\n",
       "    </tr>\n",
       "    <tr>\n",
       "      <th>4</th>\n",
       "      <td>Porsche Penske Motorsport</td>\n",
       "      <td>Porsche 963</td>\n",
       "      <td>6</td>\n",
       "      <td>HYPERCAR</td>\n",
       "    </tr>\n",
       "    <tr>\n",
       "      <th>...</th>\n",
       "      <td>...</td>\n",
       "      <td>...</td>\n",
       "      <td>...</td>\n",
       "      <td>...</td>\n",
       "    </tr>\n",
       "    <tr>\n",
       "      <th>1481</th>\n",
       "      <td>Iron Lynx</td>\n",
       "      <td>Porsche 911 RSR - 19</td>\n",
       "      <td>60</td>\n",
       "      <td>LMGTE Am</td>\n",
       "    </tr>\n",
       "    <tr>\n",
       "      <th>1482</th>\n",
       "      <td>Proton Competition</td>\n",
       "      <td>Porsche 911 RSR - 19</td>\n",
       "      <td>16</td>\n",
       "      <td>LMGTE Am</td>\n",
       "    </tr>\n",
       "    <tr>\n",
       "      <th>1483</th>\n",
       "      <td>GMB Motorsport</td>\n",
       "      <td>Aston Martin Vantage AMR</td>\n",
       "      <td>55</td>\n",
       "      <td>LMGTE Am</td>\n",
       "    </tr>\n",
       "    <tr>\n",
       "      <th>1484</th>\n",
       "      <td>AF Corse</td>\n",
       "      <td>Ferrari 488 GTE Evo</td>\n",
       "      <td>21</td>\n",
       "      <td>LMGTE Am</td>\n",
       "    </tr>\n",
       "    <tr>\n",
       "      <th>1485</th>\n",
       "      <td>Tower Motorsports</td>\n",
       "      <td>Oreca 07 - Gibson</td>\n",
       "      <td>13</td>\n",
       "      <td>LMP2</td>\n",
       "    </tr>\n",
       "  </tbody>\n",
       "</table>\n",
       "<p>1483 rows × 4 columns</p>\n",
       "</div>"
      ],
      "text/plain": [
       "                           Team                       Car  Car No.  Category\n",
       "0           Toyota Gazoo Racing       Toyota GR010 HYBRID        8  HYPERCAR\n",
       "1              Ferrari AF Corse              Ferrari 499P       51  HYPERCAR\n",
       "2           Toyota Gazoo Racing       Toyota GR010 HYBRID        7  HYPERCAR\n",
       "3     Porsche Penske Motorsport               Porsche 963       75  HYPERCAR\n",
       "4     Porsche Penske Motorsport               Porsche 963        6  HYPERCAR\n",
       "...                         ...                       ...      ...       ...\n",
       "1481                  Iron Lynx      Porsche 911 RSR - 19       60  LMGTE Am\n",
       "1482         Proton Competition      Porsche 911 RSR - 19       16  LMGTE Am\n",
       "1483             GMB Motorsport  Aston Martin Vantage AMR       55  LMGTE Am\n",
       "1484                   AF Corse       Ferrari 488 GTE Evo       21  LMGTE Am\n",
       "1485          Tower Motorsports         Oreca 07 - Gibson       13      LMP2\n",
       "\n",
       "[1483 rows x 4 columns]"
      ]
     },
     "execution_count": 33,
     "metadata": {},
     "output_type": "execute_result"
    }
   ],
   "source": [
    "\n",
    "le_mans[['Team','Car','Car No.','Category']]\n"
   ]
  },
  {
   "cell_type": "code",
   "execution_count": 37,
   "id": "cd29ee6a",
   "metadata": {},
   "outputs": [
    {
     "data": {
      "application/vnd.microsoft.datawrangler.viewer.v0+json": {
       "columns": [
        {
         "name": "index",
         "rawType": "int64",
         "type": "integer"
        },
        {
         "name": "total_time",
         "rawType": "float64",
         "type": "float"
        }
       ],
       "ref": "5d96daa6-0ba8-4788-a551-6b8bf8eec93d",
       "rows": [
        [
         "0",
         "3675.0"
        ],
        [
         "1",
         "3679.0"
        ],
        [
         "2",
         "3681.0"
        ]
       ],
       "shape": {
        "columns": 1,
        "rows": 3
       }
      },
      "text/plain": [
       "0    3675.0\n",
       "1    3679.0\n",
       "2    3681.0\n",
       "Name: total_time, dtype: float64"
      ]
     },
     "execution_count": 37,
     "metadata": {},
     "output_type": "execute_result"
    }
   ],
   "source": [
    "le_mans['total_time'] = pd.to_datetime(le_mans['Total Time'],format='%H:%M:%S')\n",
    "le_mans['total_time'] = le_mans['total_time'].dt.hour * 3600 + le_mans['total_time'].dt.minute * 60 + le_mans['total_time'].dt.second\n",
    "le_mans['total_time'] = le_mans['total_time'].astype(float)\n",
    "le_mans['total_time'].head(3)"
   ]
  },
  {
   "cell_type": "code",
   "execution_count": 38,
   "id": "e6eb7708",
   "metadata": {},
   "outputs": [
    {
     "data": {
      "application/vnd.microsoft.datawrangler.viewer.v0+json": {
       "columns": [
        {
         "name": "index",
         "rawType": "int64",
         "type": "integer"
        },
        {
         "name": "Lap_record",
         "rawType": "float64",
         "type": "float"
        }
       ],
       "ref": "fe6c8da6-c744-470a-8634-8ab34c272d31",
       "rows": [
        [
         "0",
         "209.7"
        ],
        [
         "1",
         "209.1"
        ],
        [
         "2",
         "210.0"
        ],
        [
         "3",
         "209.9"
        ],
        [
         "4",
         "210.0"
        ],
        [
         "5",
         "210.1"
        ],
        [
         "6",
         "210.2"
        ],
        [
         "7",
         "210.1"
        ],
        [
         "8",
         "209.5"
        ],
        [
         "9",
         "209.7"
        ],
        [
         "10",
         "210.6"
        ],
        [
         "11",
         "212.9"
        ],
        [
         "12",
         "217.1"
        ],
        [
         "13",
         "210.2"
        ],
        [
         "14",
         "216.4"
        ],
        [
         "15",
         "217.3"
        ],
        [
         "16",
         "217.4"
        ],
        [
         "17",
         "217.7"
        ],
        [
         "18",
         "217.8"
        ],
        [
         "19",
         "217.8"
        ],
        [
         "20",
         "208.3"
        ],
        [
         "21",
         "218.0"
        ],
        [
         "22",
         "218.1"
        ],
        [
         "23",
         "219.0"
        ],
        [
         "24",
         "219.0"
        ],
        [
         "25",
         "218.5"
        ],
        [
         "26",
         "219.4"
        ],
        [
         "27",
         "219.5"
        ],
        [
         "28",
         "224.1"
        ],
        [
         "29",
         "224.6"
        ],
        [
         "30",
         "226.1"
        ],
        [
         "31",
         "217.3"
        ],
        [
         "32",
         "217.7"
        ],
        [
         "33",
         "218.1"
        ],
        [
         "34",
         "232.1"
        ],
        [
         "35",
         "231.4"
        ],
        [
         "36",
         "231.4"
        ],
        [
         "37",
         "232.1"
        ],
        [
         "38",
         "217.6"
        ],
        [
         "39",
         "232.5"
        ],
        [
         "40",
         "232.5"
        ],
        [
         "41",
         "232.2"
        ],
        [
         "42",
         "231.3"
        ],
        [
         "43",
         "233.2"
        ],
        [
         "44",
         "232.2"
        ],
        [
         "45",
         "234.8"
        ],
        [
         "46",
         "234.7"
        ],
        [
         "47",
         "234.9"
        ],
        [
         "48",
         "234.9"
        ],
        [
         "49",
         "233.8"
        ]
       ],
       "shape": {
        "columns": 1,
        "rows": 1483
       }
      },
      "text/plain": [
       "0       209.7\n",
       "1       209.1\n",
       "2       210.0\n",
       "3       209.9\n",
       "4       210.0\n",
       "        ...  \n",
       "1481    231.4\n",
       "1482    238.7\n",
       "1483    236.2\n",
       "1484    234.8\n",
       "1485    219.1\n",
       "Name: Lap_record, Length: 1483, dtype: float64"
      ]
     },
     "execution_count": 38,
     "metadata": {},
     "output_type": "execute_result"
    }
   ],
   "source": [
    "le_mans['Best LapTime'] = pd.to_datetime(le_mans['Best LapTime'],format='%M:%S.%f')\n",
    "le_mans['Lap_record'] = le_mans['Best LapTime'].dt.minute * 60 + le_mans['Best LapTime'].dt.second + + le_mans['Best LapTime'].dt.microsecond / 1e6\n",
    "le_mans['Lap_record']"
   ]
  },
  {
   "cell_type": "markdown",
   "id": "fc9e713c",
   "metadata": {},
   "source": []
  },
  {
   "cell_type": "code",
   "execution_count": 41,
   "id": "ab996422",
   "metadata": {},
   "outputs": [],
   "source": [
    "fecha_total = pd.to_datetime('2023-10-06')\n",
    "fecha_lap   = pd.to_datetime('2023-11-06')\n",
    "\n",
    "le_mans['DateTime_Total'] = fecha_total + pd.to_timedelta(\n",
    "    le_mans['total_time'], unit='s'\n",
    ")\n",
    "le_mans['DateTime_Lap']   = fecha_lap   + pd.to_timedelta(\n",
    "    le_mans['Lap_record'],   unit='s'\n",
    ")\n"
   ]
  },
  {
   "cell_type": "code",
   "execution_count": 43,
   "id": "ba7ca2e1",
   "metadata": {},
   "outputs": [
    {
     "name": "stdout",
     "output_type": "stream",
     "text": [
      "Fastest Covered lap : 207.0 sec.\n",
      "-------------------------------\n",
      "Top Speed           : 237.0 Kph\n"
     ]
    }
   ],
   "source": [
    "print('Fastest Covered lap :',min(le_mans['Lap_record']),'sec.')\n",
    "print('-------------------------------')\n",
    "print('Top Speed           :',max(le_mans['Best Lap Kph']),'Kph')"
   ]
  },
  {
   "cell_type": "markdown",
   "id": "d1b0eb23",
   "metadata": {},
   "source": [
    "* Ganador"
   ]
  },
  {
   "cell_type": "code",
   "execution_count": 47,
   "id": "03943049",
   "metadata": {},
   "outputs": [
    {
     "data": {
      "application/vnd.microsoft.datawrangler.viewer.v0+json": {
       "columns": [
        {
         "name": "index",
         "rawType": "int64",
         "type": "integer"
        },
        {
         "name": "Car",
         "rawType": "object",
         "type": "string"
        },
        {
         "name": "Car No.",
         "rawType": "int64",
         "type": "integer"
        },
        {
         "name": "Team",
         "rawType": "object",
         "type": "string"
        },
        {
         "name": "Best Lap Kph",
         "rawType": "float64",
         "type": "float"
        },
        {
         "name": "Lap_record",
         "rawType": "float64",
         "type": "float"
        },
        {
         "name": "DateTime_Total",
         "rawType": "datetime64[ns]",
         "type": "datetime"
        },
        {
         "name": "DateTime_Lap",
         "rawType": "datetime64[ns]",
         "type": "datetime"
        }
       ],
       "ref": "be9b3213-7cef-417b-87e4-0a6890bcae51",
       "rows": [
        [
         "1368",
         "Ferrari 499P",
         "50",
         "Ferrari AF Corse",
         "237.0",
         "207.0",
         "2023-10-06 23:06:18",
         "2023-11-06 00:03:27"
        ]
       ],
       "shape": {
        "columns": 7,
        "rows": 1
       }
      },
      "text/html": [
       "<div>\n",
       "<style scoped>\n",
       "    .dataframe tbody tr th:only-of-type {\n",
       "        vertical-align: middle;\n",
       "    }\n",
       "\n",
       "    .dataframe tbody tr th {\n",
       "        vertical-align: top;\n",
       "    }\n",
       "\n",
       "    .dataframe thead th {\n",
       "        text-align: right;\n",
       "    }\n",
       "</style>\n",
       "<table border=\"1\" class=\"dataframe\">\n",
       "  <thead>\n",
       "    <tr style=\"text-align: right;\">\n",
       "      <th></th>\n",
       "      <th>Car</th>\n",
       "      <th>Car No.</th>\n",
       "      <th>Team</th>\n",
       "      <th>Best Lap Kph</th>\n",
       "      <th>Lap_record</th>\n",
       "      <th>DateTime_Total</th>\n",
       "      <th>DateTime_Lap</th>\n",
       "    </tr>\n",
       "  </thead>\n",
       "  <tbody>\n",
       "    <tr>\n",
       "      <th>1368</th>\n",
       "      <td>Ferrari 499P</td>\n",
       "      <td>50</td>\n",
       "      <td>Ferrari AF Corse</td>\n",
       "      <td>237.0</td>\n",
       "      <td>207.0</td>\n",
       "      <td>2023-10-06 23:06:18</td>\n",
       "      <td>2023-11-06 00:03:27</td>\n",
       "    </tr>\n",
       "  </tbody>\n",
       "</table>\n",
       "</div>"
      ],
      "text/plain": [
       "               Car  Car No.              Team  Best Lap Kph  Lap_record  \\\n",
       "1368  Ferrari 499P       50  Ferrari AF Corse         237.0       207.0   \n",
       "\n",
       "          DateTime_Total        DateTime_Lap  \n",
       "1368 2023-10-06 23:06:18 2023-11-06 00:03:27  "
      ]
     },
     "execution_count": 47,
     "metadata": {},
     "output_type": "execute_result"
    }
   ],
   "source": [
    "win = le_mans.loc[\n",
    "    le_mans['Lap_record']==207.0,\n",
    "    ['Car','Car No.','Team','Best Lap Kph',\n",
    "     'Lap_record','DateTime_Total','DateTime_Lap']\n",
    "]\n",
    "(win)"
   ]
  },
  {
   "cell_type": "code",
   "execution_count": null,
   "id": "68f38dc8",
   "metadata": {},
   "outputs": [],
   "source": []
  }
 ],
 "metadata": {
  "kernelspec": {
   "display_name": "Python 3",
   "language": "python",
   "name": "python3"
  },
  "language_info": {
   "codemirror_mode": {
    "name": "ipython",
    "version": 3
   },
   "file_extension": ".py",
   "mimetype": "text/x-python",
   "name": "python",
   "nbconvert_exporter": "python",
   "pygments_lexer": "ipython3",
   "version": "3.12.6"
  }
 },
 "nbformat": 4,
 "nbformat_minor": 5
}
